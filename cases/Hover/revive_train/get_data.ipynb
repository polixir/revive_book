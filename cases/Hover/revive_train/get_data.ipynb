{
 "cells": [
  {
   "cell_type": "code",
   "execution_count": 2,
   "metadata": {},
   "outputs": [],
   "source": [
    "import os\n",
    "import numpy as np\n",
    "import pandas as pd\n",
    "\n",
    "state_columns = [\"X-axis\",\"Y-axis\",\"X-velocity\",\"Y-velocity\",]\n",
    "engine_power_columns = [\"engine_power\",]\n",
    "\n",
    "state = []\n",
    "engine_power = []\n",
    "index = []\n",
    "\n",
    "folder_path = '../task_data/csv/'\n",
    "\n",
    "# 获取所有CSV文件\n",
    "file_list = os.listdir(folder_path)\n",
    "csv_files = [file for file in file_list if file.endswith('.csv')]\n",
    "\n",
    "pre_index = 0\n",
    "\n",
    "# 遍历 CSV 文件并使用 Pandas 读取节点数据\n",
    "for csv_file in csv_files:\n",
    "    file_path = os.path.join(folder_path, csv_file)\n",
    "    df = pd.read_csv(file_path)\n",
    "    \n",
    "    # 获得各个节点的数据\n",
    "    state.append(df[state_columns].values)\n",
    "    engine_power.append(df[engine_power_columns].values)\n",
    "\n",
    "    index.append(len(df)+pre_index)\n",
    "    pre_index = index[-1]\n",
    "\n",
    "# 把节点数据转换为2维数组\n",
    "state = np.concatenate(state)\n",
    "engine_power = np.concatenate(engine_power)\n",
    "index = np.array(index)\n",
    "\n",
    "# 保存数据为npz文件\n",
    "data = {\n",
    "    \"state\" : state,\n",
    "    \"engine_power\" : engine_power,\n",
    "    \"index\" : index,\n",
    "}\n",
    "\n",
    "np.savez_compressed(\"./data/hover.npz\",**data)"
   ]
  }
 ],
 "metadata": {
  "kernelspec": {
   "display_name": "revive",
   "language": "python",
   "name": "python3"
  },
  "language_info": {
   "codemirror_mode": {
    "name": "ipython",
    "version": 3
   },
   "file_extension": ".py",
   "mimetype": "text/x-python",
   "name": "python",
   "nbconvert_exporter": "python",
   "pygments_lexer": "ipython3",
   "version": "3.10.0"
  }
 },
 "nbformat": 4,
 "nbformat_minor": 2
}

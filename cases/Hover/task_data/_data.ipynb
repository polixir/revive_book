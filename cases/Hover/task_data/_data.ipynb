{
 "cells": [
  {
   "cell_type": "markdown",
   "metadata": {},
   "source": [
    "任务数据处理相关脚本"
   ]
  },
  {
   "cell_type": "code",
   "execution_count": 1,
   "metadata": {},
   "outputs": [],
   "source": [
    "import yaml\n",
    "import random\n",
    "import numpy as np\n",
    "import pandas as pd\n",
    "from datetime import datetime, timedelta\n",
    "from collections import OrderedDict"
   ]
  },
  {
   "cell_type": "markdown",
   "metadata": {},
   "source": [
    "模拟生成csv数据"
   ]
  },
  {
   "cell_type": "code",
   "execution_count": 14,
   "metadata": {},
   "outputs": [],
   "source": [
    "data = dict(np.load(\"./LanderHover.npz\"))\n",
    "\n",
    "obs = data[\"obs\"]\n",
    "next_obs = data[\"next_obs\"]\n",
    "action = data[\"action\"]\n",
    "index = data[\"index\"]\n",
    "index = [0,] + list(index)\n",
    "\n",
    "id = 1\n",
    "for start_index,end_index in zip(index[:-1],index[1:]):\n",
    "    state = obs[start_index:end_index]\n",
    "    engine_power = action[start_index:end_index]\n",
    "    \n",
    "    columns = [\"X-axis\",\"Y-axis\",\"X-velocity\",\"Y-velocity\",\"engine_power\",]\n",
    "    df = pd.DataFrame(np.concatenate([state, engine_power],axis=1),columns=columns)\n",
    "    \n",
    "    start_date = datetime(2020, 3, 1) \n",
    "    end_date = datetime(2022, 3, 31) \n",
    "    start_time = datetime.combine(random.choice(pd.date_range(start=start_date, end=end_date)).date(), datetime.min.time())\n",
    "    \n",
    "    df['time'] = [start_time + timedelta(seconds=1)*i for i in range(len(df))]\n",
    "    timestamp_col = df.pop('time')\n",
    "    df.insert(0, 'time', timestamp_col)\n",
    "    df.to_csv(f\"./csv/{id}.csv\")\n",
    "    id += 1"
   ]
  }
 ],
 "metadata": {
  "kernelspec": {
   "display_name": "revive",
   "language": "python",
   "name": "python3"
  },
  "language_info": {
   "codemirror_mode": {
    "name": "ipython",
    "version": 3
   },
   "file_extension": ".py",
   "mimetype": "text/x-python",
   "name": "python",
   "nbconvert_exporter": "python",
   "pygments_lexer": "ipython3",
   "version": "3.10.0"
  }
 },
 "nbformat": 4,
 "nbformat_minor": 2
}

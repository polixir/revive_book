{
 "cells": [
  {
   "cell_type": "code",
   "execution_count": 3,
   "metadata": {},
   "outputs": [],
   "source": [
    "import numpy as np\n",
    "import pandas as pd\n",
    "\n",
    "file_path = '../task_data/refrigerator.csv'\n",
    "\n",
    "df = pd.read_csv(file_path)\n",
    "\n",
    "temperature = df[[\"temperature\",]].values\n",
    "power = df[[\"power\",]].values\n",
    "door_open = df[[\"door_open\",]].values\n",
    "index = np.array([len(df),])\n",
    "\n",
    "\n",
    "# 保存数据为npz文件\n",
    "data = {\n",
    "    \"temperature\" : temperature,\n",
    "    \"power\" : power,\n",
    "    \"door_open\" : door_open,\n",
    "    \"index\" : index,\n",
    "}\n",
    "\n",
    "\n",
    "np.savez_compressed(\"./data/refrigerator.npz\",**data)"
   ]
  },
  {
   "cell_type": "code",
   "execution_count": null,
   "metadata": {},
   "outputs": [],
   "source": []
  }
 ],
 "metadata": {
  "kernelspec": {
   "display_name": "revive",
   "language": "python",
   "name": "python3"
  },
  "language_info": {
   "codemirror_mode": {
    "name": "ipython",
    "version": 3
   },
   "file_extension": ".py",
   "mimetype": "text/x-python",
   "name": "python",
   "nbconvert_exporter": "python",
   "pygments_lexer": "ipython3",
   "version": "3.10.0"
  }
 },
 "nbformat": 4,
 "nbformat_minor": 2
}

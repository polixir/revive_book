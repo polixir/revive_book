{
 "cells": [
  {
   "cell_type": "code",
   "execution_count": 1,
   "metadata": {},
   "outputs": [],
   "source": [
    "import os\n",
    "import numpy as np\n",
    "import pandas as pd\n",
    "\n",
    "\n",
    "Q_out_columns = [\"Q_out\",]\n",
    "Q_target_columns = [\"Q_target\",]\n",
    "Q_out_history_columns = [f\"Q_out_history_{i}\" for i in range(25)]\n",
    "CV_in_history_columns =  [f\"CV_in_history_{i}\" for i in range(25)]\n",
    "CV_in_columns = [\"CV_in\",]\n",
    "\n",
    "Q_out = []\n",
    "Q_target = []\n",
    "Q_out_history = []\n",
    "CV_in_history = []\n",
    "CV_in = []\n",
    "index = []\n",
    "\n",
    "folder_path = '../task_data/csv/'\n",
    "\n",
    "# 获取所有CSV文件\n",
    "file_list = os.listdir(folder_path)\n",
    "csv_files = [file for file in file_list if file.endswith('.csv')]\n",
    "\n",
    "pre_index = 0\n",
    "\n",
    "# 遍历 CSV 文件并使用 Pandas 读取节点数据\n",
    "for csv_file in csv_files:\n",
    "    file_path = os.path.join(folder_path, csv_file)\n",
    "    df = pd.read_csv(file_path)\n",
    "    \n",
    "    # 获得各个节点的数据\n",
    "    Q_out.append(df[Q_out_columns].values)\n",
    "    Q_target.append(df[Q_target_columns].values)\n",
    "    Q_out_history.append(df[Q_out_history_columns].values)\n",
    "    CV_in_history.append(df[CV_in_history_columns].values)\n",
    "    \n",
    "    CV_in.append(df[CV_in_columns].values)\n",
    "    \n",
    "    index.append(len(df)+pre_index)\n",
    "    pre_index = index[-1]\n",
    "\n",
    "# 把节点数据转换为2维数组\n",
    "Q_out = np.concatenate(Q_out)\n",
    "Q_target = np.concatenate(Q_target)\n",
    "Q_out_history = np.concatenate(Q_out_history)\n",
    "CV_in_history = np.concatenate(CV_in_history)\n",
    "CV_in = np.concatenate(CV_in)\n",
    "index = np.array(index)\n",
    "\n",
    "# 保存数据为npz文件\n",
    "data = {\n",
    "    \"Q_out\" : Q_out,\n",
    "    \"Q_target\" : Q_target,\n",
    "    \"Q_out_history\" : Q_out_history,\n",
    "    \"CV_in_history\" : CV_in_history,\n",
    "    \"CV_in\" : CV_in,\n",
    "    \"index\" : index,\n",
    "}\n",
    "np.savez_compressed(\"./data/pipeline.npz\",**data)"
   ]
  },
  {
   "cell_type": "code",
   "execution_count": 2,
   "metadata": {},
   "outputs": [],
   "source": [
    "import data.expert_functions as expert_function"
   ]
  },
  {
   "cell_type": "code",
   "execution_count": 4,
   "metadata": {},
   "outputs": [
    {
     "data": {
      "text/plain": [
       "1.0"
      ]
     },
     "execution_count": 4,
     "metadata": {},
     "output_type": "execute_result"
    }
   ],
   "source": [
    "(expert_function.next_Q_out_history(data)[11000:11050] == data[\"Q_out_history\"][11001:11051]).mean()"
   ]
  },
  {
   "cell_type": "code",
   "execution_count": 5,
   "metadata": {},
   "outputs": [
    {
     "data": {
      "text/plain": [
       "1.0"
      ]
     },
     "execution_count": 5,
     "metadata": {},
     "output_type": "execute_result"
    }
   ],
   "source": [
    "(expert_function.next_CV_in_history(data)[11000:11050] == data[\"CV_in_history\"][11001:11051]).mean()"
   ]
  }
 ],
 "metadata": {
  "kernelspec": {
   "display_name": "revive",
   "language": "python",
   "name": "python3"
  },
  "language_info": {
   "codemirror_mode": {
    "name": "ipython",
    "version": 3
   },
   "file_extension": ".py",
   "mimetype": "text/x-python",
   "name": "python",
   "nbconvert_exporter": "python",
   "pygments_lexer": "ipython3",
   "version": "3.10.0"
  }
 },
 "nbformat": 4,
 "nbformat_minor": 2
}

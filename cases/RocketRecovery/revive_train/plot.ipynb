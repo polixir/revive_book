{
 "cells": [
  {
   "cell_type": "code",
   "execution_count": 54,
   "metadata": {},
   "outputs": [],
   "source": [
    "import pickle\n",
    "import numpy as np\n",
    "import neorl2"
   ]
  },
  {
   "cell_type": "code",
   "execution_count": 154,
   "metadata": {},
   "outputs": [
    {
     "name": "stdout",
     "output_type": "stream",
     "text": [
      "500 -2429.59725420177\n",
      "mean return: -2429.59725420177  std: 0.0  normal_score: -586.8742849483776\n"
     ]
    }
   ],
   "source": [
    "policy_path = \"logs/bc_na/policy.pkl\"\n",
    "\n",
    "policy_revive = pickle.load(open(policy_path, 'rb'))\n",
    "env = neorl2.make('RocketRecovery')\n",
    "actions = []\n",
    "re_list = []\n",
    "for traj in range(1):\n",
    "    obs,_ = env.reset()\n",
    "    \n",
    "    re_turn = []\n",
    "    done = False\n",
    "    timeout = False\n",
    "    while not done and not timeout:\n",
    "        action = policy_revive.infer({'rocket_state': obs[...,:-1],'wind_speed': obs[...,-1:]})\n",
    "        next_state, reward, done, timeout,_ = env.step(action)\n",
    "        actions.append(action)\n",
    "        re_turn.append(reward)\n",
    "        obs = next_state\n",
    "    \n",
    "    print(len(re_turn), np.sum(np.array(re_turn)[:]))\n",
    "    re_list.append(np.sum(re_turn))\n",
    "\n",
    "print('mean return:',np.mean(re_list), ' std:',np.std(re_list), ' normal_score:', env.get_normalized_score(np.mean(re_list)))"
   ]
  },
  {
   "cell_type": "code",
   "execution_count": 116,
   "metadata": {},
   "outputs": [
    {
     "data": {
      "image/png": "[encoded data removed]",
      "text/plain": [
       "<Figure size 640x480 with 1 Axes>"
      ]
     },
     "metadata": {},
     "output_type": "display_data"
    }
   ],
   "source": [
    "import gym\n",
    "import neorl2\n",
    "import matplotlib.pyplot as plt\n",
    "import matplotlib.animation as animation\n",
    "\n",
    "# 创建LunarLander环境\n",
    "env = neorl2.make('RocketRecovery')\n",
    "\n",
    "# 初始化环境\n",
    "observation,_ = env.reset()\n",
    "\n",
    "# 创建一个空的图形列表\n",
    "frames = []\n",
    "actions = []\n",
    "done = False\n",
    "while not done:\n",
    "    # 将当前图像帧添加到列表中\n",
    "    frames.append(env.render())\n",
    "    \n",
    "    # 在环境中采取随机动作\n",
    "    #action = env.action_space.sample()\n",
    "    action = policy_revive.infer({'rocket_state': observation[...,:-1],'wind_speed': observation[...,-1:]})\n",
    "    # 执行动作并获取下一个状态、奖励和完成标志\n",
    "    observation, reward, done, info,_ = env.step(action)\n",
    "    actions.append([action])\n",
    "\n",
    "# 关闭环境\n",
    "env.close()\n",
    "\n",
    "# 创建一个动画\n",
    "fig = plt.figure()\n",
    "plt.axis(\"off\")\n",
    "\n",
    "# 将图像帧转换为动画\n",
    "im = plt.imshow(frames[0])\n",
    "\n",
    "def update(frame):\n",
    "    im.set_data(frame)\n",
    "\n",
    "# 更新动画帧\n",
    "ani = animation.FuncAnimation(fig, update, frames=frames, interval=50)\n",
    "\n",
    "# 保存动画为GIF文件\n",
    "ani.save('lunar_lander_visualization.gif', writer='pillow')"
   ]
  },
  {
   "cell_type": "code",
   "execution_count": 82,
   "metadata": {},
   "outputs": [
    {
     "data": {
      "text/plain": [
       "array([-0.3715745 ,  0.03888768, -0.44388026, -0.84733427, -0.12735023,\n",
       "       -0.0358339 , -0.81737566], dtype=float32)"
      ]
     },
     "execution_count": 82,
     "metadata": {},
     "output_type": "execute_result"
    }
   ],
   "source": [
    "observation"
   ]
  },
  {
   "cell_type": "code",
   "execution_count": 18,
   "metadata": {},
   "outputs": [
    {
     "data": {
      "text/plain": [
       "FeedForwardPolicy(\n",
       "  (backbone): MLP(\n",
       "    (net): Sequential(\n",
       "      (0): Linear(in_features=7, out_features=256, bias=True)\n",
       "      (1): LeakyReLU(negative_slope=0.1, inplace=True)\n",
       "      (2): Linear(in_features=256, out_features=256, bias=True)\n",
       "      (3): LeakyReLU(negative_slope=0.1, inplace=True)\n",
       "      (4): Linear(in_features=256, out_features=256, bias=True)\n",
       "      (5): LeakyReLU(negative_slope=0.1, inplace=True)\n",
       "      (6): Linear(in_features=256, out_features=256, bias=True)\n",
       "      (7): LeakyReLU(negative_slope=0.1, inplace=True)\n",
       "      (8): Linear(in_features=256, out_features=4, bias=True)\n",
       "      (9): Identity()\n",
       "    )\n",
       "  )\n",
       "  (dist_wrapper): DistributionWrapper(\n",
       "    type=mix, dim=1\n",
       "    (wrapper_list): ModuleList(\n",
       "      (0): DistributionWrapper(type=normal, dim=2)\n",
       "    )\n",
       "  )\n",
       ")"
      ]
     },
     "execution_count": 18,
     "metadata": {},
     "output_type": "execute_result"
    }
   ],
   "source": [
    "policy_revive._policy_model.node.network"
   ]
  },
  {
   "cell_type": "code",
   "execution_count": null,
   "metadata": {},
   "outputs": [],
   "source": []
  }
 ],
 "metadata": {
  "kernelspec": {
   "display_name": "revive",
   "language": "python",
   "name": "python3"
  },
  "language_info": {
   "codemirror_mode": {
    "name": "ipython",
    "version": 3
   },
   "file_extension": ".py",
   "mimetype": "text/x-python",
   "name": "python",
   "nbconvert_exporter": "python",
   "pygments_lexer": "ipython3",
   "version": "3.10.0"
  }
 },
 "nbformat": 4,
 "nbformat_minor": 2
}

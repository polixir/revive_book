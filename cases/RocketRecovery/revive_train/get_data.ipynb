{
 "cells": [
  {
   "cell_type": "code",
   "execution_count": 16,
   "metadata": {},
   "outputs": [],
   "source": [
    "import os\n",
    "import numpy as np\n",
    "import pandas as pd\n",
    "from data.rocketrecovery_terminated import get_terminated\n",
    "\n",
    "rocket_state_columns = [\"X-axis\",\"Y-axis\",\"X-velocity\",\"Y-velocity\",\"angle\",\"angular_velocity\"]\n",
    "wind_speed_columns = [\"wind_speed\",]\n",
    "engine_power_columns = [\"main_engine_power\",\"left_right_engine_power\"]\n",
    "\n",
    "rocket_state = []\n",
    "wind_speed = []\n",
    "engine_power = []\n",
    "next_rocket_state = []\n",
    "index = []\n",
    "\n",
    "folder_path = '../task_data/csv/'\n",
    "\n",
    "# 获取所有CSV文件\n",
    "file_list = os.listdir(folder_path)\n",
    "csv_files = [file for file in file_list if file.endswith('.csv')]\n",
    "\n",
    "pre_index = 0\n",
    "\n",
    "# 遍历 CSV 文件并使用 Pandas 读取节点数据\n",
    "for csv_file in csv_files:\n",
    "    file_path = os.path.join(folder_path, csv_file)\n",
    "    df = pd.read_csv(file_path)\n",
    "    \n",
    "    # 获得各个节点的数据\n",
    "    rocket_state.append(df[rocket_state_columns].values[:-1])\n",
    "    next_rocket_state.append(df[rocket_state_columns].values[1:])\n",
    "    wind_speed.append(df[wind_speed_columns].values[:-1])\n",
    "    engine_power.append(df[engine_power_columns].values[:-1])\n",
    "\n",
    "    index.append(len(df)-1+pre_index)\n",
    "    pre_index = index[-1]\n",
    "\n",
    "# 把节点数据转换为2维数组\n",
    "rocket_state = np.concatenate(rocket_state)\n",
    "next_rocket_state = np.concatenate(next_rocket_state)\n",
    "wind_speed = np.concatenate(wind_speed)\n",
    "engine_power = np.concatenate(engine_power)\n",
    "index = np.array(index)\n",
    "\n",
    "# 保存数据为npz文件\n",
    "data = {\n",
    "    \"rocket_state\" : rocket_state,\n",
    "    \"next_rocket_state\" : next_rocket_state,\n",
    "    \"wind_speed\" : wind_speed,\n",
    "    \"engine_power\" : engine_power,\n",
    "    \"index\" : index,\n",
    "}\n",
    "\n",
    "data[\"done\"] = get_terminated(data)\n",
    "\n",
    "np.savez_compressed(\"./data/rocketrecovery.npz\",**data)"
   ]
  },
  {
   "cell_type": "code",
   "execution_count": 5,
   "metadata": {},
   "outputs": [],
   "source": [
    "data[\"next_rocket_state\"] = data[\"rocket_state\"]"
   ]
  },
  {
   "cell_type": "code",
   "execution_count": 14,
   "metadata": {},
   "outputs": [],
   "source": []
  },
  {
   "cell_type": "code",
   "execution_count": 15,
   "metadata": {},
   "outputs": [
    {
     "data": {
      "text/plain": [
       "array([[0.],\n",
       "       [0.],\n",
       "       [0.],\n",
       "       ...,\n",
       "       [0.],\n",
       "       [0.],\n",
       "       [1.]])"
      ]
     },
     "execution_count": 15,
     "metadata": {},
     "output_type": "execute_result"
    }
   ],
   "source": [
    "get_terminated(data)"
   ]
  },
  {
   "cell_type": "code",
   "execution_count": null,
   "metadata": {},
   "outputs": [],
   "source": []
  }
 ],
 "metadata": {
  "kernelspec": {
   "display_name": "revive",
   "language": "python",
   "name": "python3"
  },
  "language_info": {
   "codemirror_mode": {
    "name": "ipython",
    "version": 3
   },
   "file_extension": ".py",
   "mimetype": "text/x-python",
   "name": "python",
   "nbconvert_exporter": "python",
   "pygments_lexer": "ipython3",
   "version": "3.10.0"
  }
 },
 "nbformat": 4,
 "nbformat_minor": 2
}

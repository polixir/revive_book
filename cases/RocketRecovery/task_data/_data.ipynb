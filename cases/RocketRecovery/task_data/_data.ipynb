{
 "cells": [
  {
   "cell_type": "markdown",
   "metadata": {},
   "source": [
    "任务数据处理相关脚本"
   ]
  },
  {
   "cell_type": "code",
   "execution_count": 11,
   "metadata": {},
   "outputs": [],
   "source": [
    "import yaml\n",
    "import neorl2\n",
    "import random\n",
    "import numpy as np\n",
    "import pandas as pd\n",
    "from datetime import datetime, timedelta\n",
    "from collections import OrderedDict"
   ]
  },
  {
   "cell_type": "markdown",
   "metadata": {},
   "source": [
    "模拟生成csv数据"
   ]
  },
  {
   "cell_type": "code",
   "execution_count": 6,
   "metadata": {},
   "outputs": [],
   "source": [
    "env = neorl2.make(\"RocketRecovery\")\n",
    "data,_ = env.get_dataset()\n",
    "\n",
    "obs = data[\"obs\"]\n",
    "next_obs = data[\"next_obs\"]\n",
    "action = data[\"action\"]\n",
    "index =np.where(np.logical_or(data[\"done\"], data[\"truncated\"]))[0]+1\n",
    "index = [0,] + list(index)\n",
    "\n",
    "rocket_state = []\n",
    "engine_power = []\n",
    "wind_speed = []\n",
    "\n",
    "id = 1\n",
    "for start_index,end_index in zip(index[:-1],index[1:]):\n",
    "    state = np.concatenate([obs[start_index:end_index],next_obs[end_index-1:end_index]],axis=0)\n",
    "    engine_power = np.concatenate([action[start_index:end_index],action[end_index-1:end_index]],axis=0)\n",
    "    \n",
    "    columns = [\"X-axis\",\"Y-axis\",\"X-velocity\",\"Y-velocity\",\"angle\",\"angular_velocity\",\"wind_speed\",\"main_engine_power\",\"left_right_engine_power\"]\n",
    "    df = pd.DataFrame(np.concatenate([state, engine_power],axis=1),columns=columns)\n",
    "\n",
    "    start_date = datetime(2010, 3, 1) \n",
    "    end_date = datetime(2022, 3, 31) \n",
    "    start_time = datetime.combine(random.choice(pd.date_range(start=start_date, end=end_date)).date(), datetime.min.time())\n",
    "    \n",
    "    df['time'] = [start_time + timedelta(seconds=1)*i for i in range(len(df))]\n",
    "    timestamp_col = df.pop('time')\n",
    "    df.insert(0, 'time', timestamp_col)\n",
    "    \n",
    "    df.to_csv(f\"./csv/{id}.csv\")\n",
    "    id += 1"
   ]
  },
  {
   "cell_type": "markdown",
   "metadata": {},
   "source": [
    "生成决策流图"
   ]
  },
  {
   "cell_type": "code",
   "execution_count": 15,
   "metadata": {},
   "outputs": [],
   "source": [
    "config_dict = {}\n",
    "config_dict['metadata'] = dict()\n",
    "\n",
    "graph ={\n",
    "    \"engine_power\": [\"rocket_state\", \"wind_speed\"],\n",
    "    \"next_rocket_state\": [\"rocket_state\",\"wind_speed\",\"engine_power\"],\n",
    "}\n",
    "\n",
    "config_dict['metadata']['graph'] = graph\n",
    "\n",
    "nodes = [\"rocket_state\",\"wind_speed\",\"engine_power\"]\n",
    "config_dict['metadata']['columns'] = []\n",
    "\n",
    "for node in nodes:\n",
    "    if node == \"rocket_state\":\n",
    "        for column in [\"X-axis\",\"Y-axis\",\"X-velocity\",\"Y-velocity\",\"angle\",\"angular_velocity\"]:\n",
    "            config_dict['metadata']['columns'].append({\n",
    "                f'{column}' : {\n",
    "                    'type' : 'continuous',\n",
    "                    'dim' : node\n",
    "                }\n",
    "            })\n",
    "    elif node == \"wind_speed\":\n",
    "        for column in [\"wind_speed\",]:\n",
    "            config_dict['metadata']['columns'].append({\n",
    "                f'{column}' : {\n",
    "                    'type' : 'continuous',\n",
    "                    'dim' : node\n",
    "                }\n",
    "            })\n",
    "    elif node == \"engine_power\":\n",
    "        for column in [\"main_engine_power\",\"left_right_engine_power\"]:\n",
    "            config_dict['metadata']['columns'].append({\n",
    "                f'{column}' : {\n",
    "                    'type' : 'continuous',\n",
    "                    'dim' : node\n",
    "                }\n",
    "            })\n",
    "    else:\n",
    "        raise NotImplementedError\n",
    "        \n",
    "        \n",
    "with open(\"../revive_train/data/rocketrecovery.yaml\", 'w') as f:\n",
    "    yaml.dump(dict(config_dict), f)"
   ]
  },
  {
   "cell_type": "code",
   "execution_count": null,
   "metadata": {},
   "outputs": [],
   "source": []
  }
 ],
 "metadata": {
  "kernelspec": {
   "display_name": "revive",
   "language": "python",
   "name": "python3"
  },
  "language_info": {
   "codemirror_mode": {
    "name": "ipython",
    "version": 3
   },
   "file_extension": ".py",
   "mimetype": "text/x-python",
   "name": "python",
   "nbconvert_exporter": "python",
   "pygments_lexer": "ipython3",
   "version": "3.10.0"
  }
 },
 "nbformat": 4,
 "nbformat_minor": 2
}

{
 "cells": [
  {
   "cell_type": "code",
   "execution_count": 2,
   "metadata": {},
   "outputs": [],
   "source": [
    "import os\n",
    "import numpy as np\n",
    "import pandas as pd\n",
    "\n",
    "observation_columns = [\"X\",\"Y\",\"theta_dt\"]\n",
    "action_columns = [\"torque\",]\n",
    "\n",
    "observation = []\n",
    "action = []\n",
    "index = []\n",
    "\n",
    "folder_path = '../task_data/csv/'\n",
    "\n",
    "# 获取所有CSV文件\n",
    "file_list = os.listdir(folder_path)\n",
    "csv_files = [file for file in file_list if file.endswith('.csv')]\n",
    "\n",
    "pre_index = 0\n",
    "\n",
    "# 遍历 CSV 文件并使用 Pandas 读取节点数据\n",
    "for csv_file in csv_files:\n",
    "    file_path = os.path.join(folder_path, csv_file)\n",
    "    df = pd.read_csv(file_path)\n",
    "    \n",
    "    # 获得各个节点的数据\n",
    "    observation.append(df[observation_columns].values)\n",
    "    action.append(df[action_columns].values)\n",
    "    index.append(len(df)+pre_index)\n",
    "    pre_index = index[-1]\n",
    "\n",
    "# 把节点数据转换为2维数组\n",
    "observation = np.concatenate(observation)\n",
    "action = np.concatenate(action)\n",
    "index = np.array(index)\n",
    "\n",
    "# 保存数据为npz文件\n",
    "data = {\n",
    "    \"observation\" : observation,\n",
    "    \"action\" : action,\n",
    "    \"index\" : index,\n",
    "}\n",
    "\n",
    "np.savez_compressed(\"./data/pendulum.npz\",**data)"
   ]
  }
 ],
 "metadata": {
  "kernelspec": {
   "display_name": "revive",
   "language": "python",
   "name": "python3"
  },
  "language_info": {
   "codemirror_mode": {
    "name": "ipython",
    "version": 3
   },
   "file_extension": ".py",
   "mimetype": "text/x-python",
   "name": "python",
   "nbconvert_exporter": "python",
   "pygments_lexer": "ipython3",
   "version": "3.10.0"
  }
 },
 "nbformat": 4,
 "nbformat_minor": 2
}

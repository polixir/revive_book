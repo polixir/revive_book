{
 "cells": [
  {
   "cell_type": "code",
   "execution_count": 11,
   "metadata": {},
   "outputs": [
    {
     "name": "stderr",
     "output_type": "stream",
     "text": [
      "/home/ubuntu/.local/lib/python3.10/site-packages/glfw/__init__.py:916: GLFWError: (65544) b'X11: The DISPLAY environment variable is missing'\n",
      "  warnings.warn(message, GLFWError)\n",
      "<frozen importlib._bootstrap>:283: DeprecationWarning: the load_module() method is deprecated and slated for removal in Python 3.12; use exec_module() instead\n"
     ]
    }
   ],
   "source": [
    "import yaml\n",
    "import shutil\n",
    "import neorl2\n",
    "import random\n",
    "import numpy as np\n",
    "import pandas as pd\n",
    "from datetime import datetime, timedelta\n",
    "from collections import OrderedDict"
   ]
  },
  {
   "cell_type": "code",
   "execution_count": 12,
   "metadata": {},
   "outputs": [],
   "source": [
    "data = dict(np.load(\"./expert_data.npz\"))"
   ]
  },
  {
   "cell_type": "code",
   "execution_count": 15,
   "metadata": {},
   "outputs": [],
   "source": [
    "X = data[\"states\"][:,0:1]\n",
    "Y = data[\"states\"][:,1:2]\n",
    "theta_dt = data[\"states\"][:,2:3]\n",
    "torque = data[\"actions\"]\n",
    "index = [0,] + list(data[\"index\"])\n",
    "\n",
    "id = 1\n",
    "for start_index,end_index in zip(index[:-1],index[1:]):\n",
    "    X = data[\"states\"][start_index:end_index,0:1]\n",
    "    Y = data[\"states\"][start_index:end_index,1:2]\n",
    "    theta_dt = data[\"states\"][start_index:end_index,2:3]\n",
    "    torque = data[\"actions\"][start_index:end_index]\n",
    "    columns = [\"X\",\"Y\",\"theta_dt\",\"torque\"]\n",
    "    df = pd.DataFrame(np.concatenate([X, Y, theta_dt, torque],axis=1),columns=columns)\n",
    "    \n",
    "    start_date = datetime(2024, 1, 1) \n",
    "    end_date = datetime(2024, 4, 23) \n",
    "    start_time = datetime.combine(random.choice(pd.date_range(start=start_date, end=end_date)).date(), datetime.min.time())\n",
    "    \n",
    "    df['time'] = [start_time + timedelta(seconds=1)*i for i in range(len(df))]\n",
    "    timestamp_col = df.pop('time')\n",
    "    df.insert(0, 'time', timestamp_col)\n",
    "    \n",
    "    df.to_csv(f\"./csv/{id}.csv\")\n",
    "    id += 1"
   ]
  },
  {
   "cell_type": "code",
   "execution_count": 9,
   "metadata": {},
   "outputs": [
    {
     "data": {
      "text/plain": [
       "{'states': array([[ 0.6520163 ,  0.758205  , -0.46042657],\n",
       "        [ 0.64297295,  0.7658889 ,  0.23734078],\n",
       "        [ 0.6103    ,  0.79217035,  0.83868736],\n",
       "        ...,\n",
       "        [ 0.89551735, -0.44502664,  3.0879946 ],\n",
       "        [ 0.9468964 , -0.32153887,  2.6769965 ],\n",
       "        [ 0.97577465, -0.21877812,  2.1358423 ]], dtype=float32),\n",
       " 'actions': array([[ 0.86075747],\n",
       "        [ 0.17953274],\n",
       "        [-1.9725851 ],\n",
       "        ...,\n",
       "        [-0.51485413],\n",
       "        [-1.9999999 ],\n",
       "        [-1.9999992 ]], dtype=float32),\n",
       " 'index': array([  200,   400,   600,   800,  1000,  1200,  1400,  1600,  1800,\n",
       "         2000,  2200,  2400,  2600,  2800,  3000,  3200,  3400,  3600,\n",
       "         3800,  4000,  4200,  4400,  4600,  4800,  5000,  5200,  5400,\n",
       "         5600,  5800,  6000,  6200,  6400,  6600,  6800,  7000,  7200,\n",
       "         7400,  7600,  7800,  8000,  8200,  8400,  8600,  8800,  9000,\n",
       "         9200,  9400,  9600,  9800, 10000, 10200, 10400, 10600, 10800,\n",
       "        11000, 11200, 11400, 11600, 11800, 12000, 12200, 12400, 12600,\n",
       "        12800, 13000, 13200, 13400, 13600, 13800, 14000, 14200, 14400,\n",
       "        14600, 14800, 15000, 15200, 15400, 15600, 15800, 16000, 16200,\n",
       "        16400, 16600, 16800, 17000, 17200, 17400, 17600, 17800, 18000,\n",
       "        18200, 18400, 18600, 18800, 19000, 19200, 19400, 19600, 19800,\n",
       "        20000])}"
      ]
     },
     "execution_count": 9,
     "metadata": {},
     "output_type": "execute_result"
    }
   ],
   "source": [
    "data"
   ]
  },
  {
   "cell_type": "code",
   "execution_count": null,
   "metadata": {},
   "outputs": [],
   "source": []
  }
 ],
 "metadata": {
  "kernelspec": {
   "display_name": "revive",
   "language": "python",
   "name": "python3"
  },
  "language_info": {
   "codemirror_mode": {
    "name": "ipython",
    "version": 3
   },
   "file_extension": ".py",
   "mimetype": "text/x-python",
   "name": "python",
   "nbconvert_exporter": "python",
   "pygments_lexer": "ipython3",
   "version": "3.10.0"
  }
 },
 "nbformat": 4,
 "nbformat_minor": 2
}
